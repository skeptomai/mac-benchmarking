{
 "cells": [
  {
   "cell_type": "code",
   "execution_count": null,
   "metadata": {},
   "outputs": [],
   "source": [
    "import pandas as pd\n",
    "import numpy as np\n",
    "import matplotlib.pyplot as plt\n",
    "%matplotlib inline"
   ]
  },
  {
   "cell_type": "code",
   "execution_count": null,
   "metadata": {},
   "outputs": [],
   "source": [
    "data_files = [ \"PwrData_2019-7-13_8-56-10.csv\",\"PwrData_2019-7-13_8-59-59.csv\", \"PwrData_2019-7-13_9-0-57.csv\",\"PwrData_2019-7-13_9-5-28.csv\", \"PwrData_2019-7-13_10-2-0.csv\",\"PwrData_2019-7-13_10-5-25.csv\", \"PwrData_2019-7-13_10-6-49.csv\"]"
   ]
  },
  {
   "cell_type": "code",
   "execution_count": null,
   "metadata": {},
   "outputs": [],
   "source": [
    "def produce_plot(csv_name):\n",
    "    df = pd.read_csv(csv_name)\n",
    "    pts=df['Package Temperature_0(C)'].sort_values(axis=0, ascending=False, inplace=False, kind='quicksort', na_position='last')\n",
    "    pts.plot.hist()\n",
    "    plt.title(csv_name)\n",
    "    plt.show()"
   ]
  },
  {
   "cell_type": "code",
   "execution_count": null,
   "metadata": {
    "scrolled": false
   },
   "outputs": [],
   "source": [
    "for df in data_files:\n",
    "    produce_plot(df)"
   ]
  }
 ],
 "metadata": {
  "kernelspec": {
   "display_name": "Python 3",
   "language": "python",
   "name": "python3"
  },
  "language_info": {
   "codemirror_mode": {
    "name": "ipython",
    "version": 3
   },
   "file_extension": ".py",
   "mimetype": "text/x-python",
   "name": "python",
   "nbconvert_exporter": "python",
   "pygments_lexer": "ipython3",
   "version": "3.7.3"
  }
 },
 "nbformat": 4,
 "nbformat_minor": 2
}
